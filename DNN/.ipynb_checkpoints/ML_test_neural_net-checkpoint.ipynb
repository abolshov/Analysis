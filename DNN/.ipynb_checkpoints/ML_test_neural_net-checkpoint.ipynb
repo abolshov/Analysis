{
 "cells": [
  {
   "cell_type": "code",
   "execution_count": 1,
   "id": "02a86f54-4246-42e3-b662-709a5a896487",
   "metadata": {},
   "outputs": [],
   "source": [
    "import tensorflow as tf\n",
    "import pandas as pd\n",
    "import numpy as np\n",
    "import seaborn as sns\n",
    "from sklearn.utils import shuffle\n",
    "from sklearn.model_selection import train_test_split"
   ]
  },
  {
   "cell_type": "code",
   "execution_count": 2,
   "id": "e0d50e47-6474-426b-b82c-20103005999e",
   "metadata": {},
   "outputs": [
    {
     "data": {
      "text/plain": [
       "'2.9.2'"
      ]
     },
     "execution_count": 2,
     "metadata": {},
     "output_type": "execute_result"
    }
   ],
   "source": [
    "tf.__version__"
   ]
  },
  {
   "cell_type": "code",
   "execution_count": 3,
   "id": "b1246b5c-b361-4fcc-9a7c-e498758539fc",
   "metadata": {},
   "outputs": [],
   "source": [
    "data_signal = pd.read_csv(\"data_signal.csv\")\n",
    "data_backgr = pd.read_csv(\"data_backgr.csv\")"
   ]
  },
  {
   "cell_type": "code",
   "execution_count": 4,
   "id": "33344d44-2cd4-467f-8d6b-f2f9d821c3a9",
   "metadata": {},
   "outputs": [
    {
     "data": {
      "text/plain": [
       "(1170797, 49)"
      ]
     },
     "execution_count": 4,
     "metadata": {},
     "output_type": "execute_result"
    }
   ],
   "source": [
    "frames = [data_signal, data_backgr]\n",
    "data = pd.concat(frames)\n",
    "data = shuffle(data)\n",
    "data.shape"
   ]
  },
  {
   "cell_type": "code",
   "execution_count": 5,
   "id": "9dc9db48-4a15-41bf-80f7-c05859bdc730",
   "metadata": {},
   "outputs": [
    {
     "data": {
      "text/plain": [
       "((1170797, 48), (1170797,))"
      ]
     },
     "execution_count": 5,
     "metadata": {},
     "output_type": "execute_result"
    }
   ],
   "source": [
    "y = data.dnn_truth_value\n",
    "X = data.drop('dnn_truth_value', axis=1)\n",
    "X.shape, y.shape"
   ]
  },
  {
   "cell_type": "code",
   "execution_count": 6,
   "id": "be3f2436-71ce-49a1-9ff3-f0c5cea48603",
   "metadata": {},
   "outputs": [],
   "source": [
    "X_train, X_test, y_train, y_test = train_test_split(X, y, test_size=0.33, random_state=42)"
   ]
  },
  {
   "cell_type": "code",
   "execution_count": 7,
   "id": "bcc2d031-bbd1-49c2-88c7-ad73c1aeb022",
   "metadata": {},
   "outputs": [],
   "source": [
    "X_train, X_test, y_train, y_test = X_train.to_numpy(), X_test.to_numpy(), y_train.to_numpy(), y_test.to_numpy()"
   ]
  },
  {
   "cell_type": "code",
   "execution_count": 16,
   "id": "fc3a0d06-243d-4571-97a9-a0f91b2c2710",
   "metadata": {},
   "outputs": [],
   "source": [
    "from tensorflow.keras.models import Sequential\n",
    "from tensorflow.keras.layers import Activation, Dense, Flatten\n",
    "from tensorflow.keras.optimizers import Adam, SGD\n",
    "from tensorflow.keras.metrics import categorical_crossentropy"
   ]
  },
  {
   "cell_type": "code",
   "execution_count": 9,
   "id": "fd0434f5-1aba-428e-81be-ce304966cf3f",
   "metadata": {},
   "outputs": [
    {
     "name": "stdout",
     "output_type": "stream",
     "text": [
      "Number GPUs availbale:  1\n"
     ]
    }
   ],
   "source": [
    "physical_devices = tf.config.experimental.list_physical_devices('GPU')\n",
    "print(\"Number GPUs availbale: \", len(physical_devices))\n",
    "tf.config.experimental.set_memory_growth(physical_devices[0], True)"
   ]
  },
  {
   "cell_type": "code",
   "execution_count": 15,
   "id": "912ef467-829a-45f8-bdb8-7a12bcb9ad52",
   "metadata": {},
   "outputs": [],
   "source": [
    "clf_nn = Sequential([\n",
    "                    Dense(units=229, input_shape=(48,), activation='relu'),\n",
    "                    # Dense(units=229, activation='relu'),\n",
    "                    Dense(units=229, activation='relu'),\n",
    "                    Dense(units=1, activation='sigmoid')\n",
    "])"
   ]
  },
  {
   "cell_type": "code",
   "execution_count": 11,
   "id": "ca0fb68b-e057-42c3-a4ba-2d33e0f9ea04",
   "metadata": {},
   "outputs": [
    {
     "name": "stdout",
     "output_type": "stream",
     "text": [
      "Model: \"sequential\"\n",
      "_________________________________________________________________\n",
      " Layer (type)                Output Shape              Param #   \n",
      "=================================================================\n",
      " dense (Dense)               (None, 229)               11221     \n",
      "                                                                 \n",
      " dense_1 (Dense)             (None, 229)               52670     \n",
      "                                                                 \n",
      " dense_2 (Dense)             (None, 1)                 230       \n",
      "                                                                 \n",
      "=================================================================\n",
      "Total params: 64,121\n",
      "Trainable params: 64,121\n",
      "Non-trainable params: 0\n",
      "_________________________________________________________________\n"
     ]
    }
   ],
   "source": [
    "clf_nn.summary()"
   ]
  },
  {
   "cell_type": "code",
   "execution_count": 17,
   "id": "dc6437df-0b41-483c-9fc2-eb8d84c47272",
   "metadata": {},
   "outputs": [],
   "source": [
    "clf_nn.compile(optimizer=SGD(learning_rate=0.01),\n",
    "              loss='binary_crossentropy',\n",
    "              metrics=['accuracy'])"
   ]
  },
  {
   "cell_type": "code",
   "execution_count": 18,
   "id": "1db287ed-3318-4b92-8928-473cb5ee2f81",
   "metadata": {},
   "outputs": [
    {
     "name": "stdout",
     "output_type": "stream",
     "text": [
      "Epoch 1/10\n"
     ]
    },
    {
     "name": "stderr",
     "output_type": "stream",
     "text": [
      "2023-02-16 16:34:50.378342: I tensorflow/core/grappler/optimizers/custom_graph_optimizer_registry.cc:113] Plugin optimizer for device_type GPU is enabled.\n"
     ]
    },
    {
     "name": "stdout",
     "output_type": "stream",
     "text": [
      "6129/6129 - 28s - loss: 0.5153 - accuracy: 0.7727 - 28s/epoch - 5ms/step\n",
      "Epoch 2/10\n",
      "6129/6129 - 27s - loss: 0.4394 - accuracy: 0.7984 - 27s/epoch - 4ms/step\n",
      "Epoch 3/10\n",
      "6129/6129 - 28s - loss: 0.4264 - accuracy: 0.8055 - 28s/epoch - 5ms/step\n",
      "Epoch 4/10\n",
      "6129/6129 - 28s - loss: 0.4182 - accuracy: 0.8109 - 28s/epoch - 5ms/step\n",
      "Epoch 5/10\n",
      "6129/6129 - 28s - loss: 0.4173 - accuracy: 0.8114 - 28s/epoch - 5ms/step\n",
      "Epoch 6/10\n",
      "6129/6129 - 28s - loss: 0.4095 - accuracy: 0.8159 - 28s/epoch - 5ms/step\n",
      "Epoch 7/10\n",
      "6129/6129 - 28s - loss: 0.4055 - accuracy: 0.8182 - 28s/epoch - 5ms/step\n",
      "Epoch 8/10\n",
      "6129/6129 - 28s - loss: 0.4024 - accuracy: 0.8201 - 28s/epoch - 5ms/step\n",
      "Epoch 9/10\n",
      "6129/6129 - 28s - loss: 0.4001 - accuracy: 0.8213 - 28s/epoch - 5ms/step\n",
      "Epoch 10/10\n",
      "6129/6129 - 28s - loss: 0.3994 - accuracy: 0.8218 - 28s/epoch - 5ms/step\n"
     ]
    },
    {
     "data": {
      "text/plain": [
       "<keras.callbacks.History at 0x299f53310>"
      ]
     },
     "execution_count": 18,
     "metadata": {},
     "output_type": "execute_result"
    }
   ],
   "source": [
    "clf_nn.fit(x=X_train, \n",
    "           y=y_train, \n",
    "           batch_size=128,\n",
    "           epochs=10,\n",
    "           shuffle=True,\n",
    "           verbose=2)"
   ]
  },
  {
   "cell_type": "code",
   "execution_count": 19,
   "id": "b6d6dcef-5620-4f0f-a068-5157bbd06da6",
   "metadata": {},
   "outputs": [
    {
     "name": "stdout",
     "output_type": "stream",
     "text": [
      "   27/12074 [..............................] - ETA: 47s - loss: 0.4214 - accuracy: 0.8148 "
     ]
    },
    {
     "name": "stderr",
     "output_type": "stream",
     "text": [
      "2023-02-16 16:39:35.839932: I tensorflow/core/grappler/optimizers/custom_graph_optimizer_registry.cc:113] Plugin optimizer for device_type GPU is enabled.\n"
     ]
    },
    {
     "name": "stdout",
     "output_type": "stream",
     "text": [
      "12074/12074 [==============================] - 45s 4ms/step - loss: 0.4043 - accuracy: 0.8196\n"
     ]
    },
    {
     "data": {
      "text/plain": [
       "[0.40430885553359985, 0.8196105360984802]"
      ]
     },
     "execution_count": 19,
     "metadata": {},
     "output_type": "execute_result"
    }
   ],
   "source": [
    "clf_nn.evaluate(X_test, y_test)"
   ]
  },
  {
   "cell_type": "code",
   "execution_count": null,
   "id": "376a818b-3093-4b54-9469-6b2efc2930eb",
   "metadata": {},
   "outputs": [],
   "source": []
  }
 ],
 "metadata": {
  "kernelspec": {
   "display_name": "Python 3.10 (tensorflow)",
   "language": "python",
   "name": "tensorflow"
  },
  "language_info": {
   "codemirror_mode": {
    "name": "ipython",
    "version": 3
   },
   "file_extension": ".py",
   "mimetype": "text/x-python",
   "name": "python",
   "nbconvert_exporter": "python",
   "pygments_lexer": "ipython3",
   "version": "3.10.8"
  }
 },
 "nbformat": 4,
 "nbformat_minor": 5
}
